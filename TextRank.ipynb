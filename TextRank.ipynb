{
 "cells": [
  {
   "cell_type": "markdown",
   "id": "greek-while",
   "metadata": {},
   "source": [
    "This part of code is to extract the most significant sentences and noun chunks in each Abstract. TextRank has been applied for extractive summarization, it determines the importance score of each sentence based on its similarity score with other sentences. Drawing inspiration from the PageRank algorithm, TextRank creates a word graph and progressively calculates the ranking score of each sentence in an iterative manner. "
   ]
  },
  {
   "cell_type": "code",
   "execution_count": 1,
   "id": "bacterial-hormone",
   "metadata": {},
   "outputs": [
    {
     "name": "stderr",
     "output_type": "stream",
     "text": [
      "/Users/mac/opt/anaconda2/envs/jupyterlab/lib/python3.9/site-packages/tqdm/auto.py:21: TqdmWarning: IProgress not found. Please update jupyter and ipywidgets. See https://ipywidgets.readthedocs.io/en/stable/user_install.html\n",
      "  from .autonotebook import tqdm as notebook_tqdm\n"
     ]
    }
   ],
   "source": [
    "import nltk\n",
    "import re\n",
    "from nltk.corpus import stopwords\n",
    "from nltk.stem import WordNetLemmatizer\n",
    "from nltk.cluster.util import cosine_distance\n",
    "import numpy as np\n",
    "import spacy\n",
    "from gensim.models import Word2Vec"
   ]
  },
  {
   "cell_type": "markdown",
   "id": "ranking-slovakia",
   "metadata": {},
   "source": [
    "The similarity matrix can be calculated using two methods, the first method is calculated according to the number of words co-occured in two sequences, the second method to construct similarity matrix base on the embedding similarity between two sequences. \n",
    "\n",
    "The formula of the TextRank is $S(V_{i}) = (1-d) + d * \\sum(j\\epsilon linked(V_{i})) [ (W_{ji} / \\sum(k\\epsilon linked(V_{j})) W_{jk} ) * S(V_{j}) ]$\n",
    "where $S (V_{i})$ is the TextRank score for sequence $V_{i}$.\n",
    "d is the impedance coefficient, usually set to 0.85\n",
    "linked(V_{j}) refers to the sequences except for the current one,\n",
    "$W_{ji}$ is the similarity score between sequence i and j"
   ]
  },
  {
   "cell_type": "code",
   "execution_count": 2,
   "id": "bored-forty",
   "metadata": {},
   "outputs": [],
   "source": [
    "def ranking(x_clean, noun_or_sentence = 0, number=5, similarity_method = 0):\n",
    "    '''\n",
    "    params:\n",
    "        x_clean: clean the passage, \n",
    "        number: extract the top 5 noun chunks/sentences\n",
    "        noun_or_sentence: if noun_or_sentence equal to 1, rank noun chunks; if noun_or_sentence is equal to 0, rank sentences\n",
    "        similarity_method: similarity_matrix = 0, similarity analysis using word co-occurance pattern, similarity_matrix = 1, similarity analysis using word2vec similarity\n",
    "    results:\n",
    "        a dictionary containing the sentence along with its importance\n",
    "    '''\n",
    "    # clean the noun_chunks\n",
    "    if noun_or_sentence == 1:\n",
    "        x_clean = noun_chunks_split\n",
    "        x_clean = [re.sub(r'[^a-zA-Z0-9-\\s]', u'',sentence.replace('\\n', '').replace('-',' '), flags=re.UNICODE) for sentence in x_clean]\n",
    "        x_clean = [list(filter(lambda w: w not in stop_words and len(w)>2, map(lemmatizer.lemmatize, sentence.lower().split()))) for sentence in x_clean]\n",
    "    similarity_matrix = np.zeros((len(x_clean),len(x_clean)))\n",
    "    # similarity analysis using word co-occurance pattern\n",
    "    if similarity_method == 0:\n",
    "        for idx1 in range(0,len(x_clean)):\n",
    "            for idx2 in range(0,len(x_clean)):\n",
    "                if idx1 == idx2:\n",
    "                    continue\n",
    "                elif len(x_clean[idx1])==0 or len(x_clean[idx2])==0:\n",
    "                    similarity_matrix[idx1][idx2] = 0\n",
    "                else:\n",
    "                    # construct a vocabulary containing all the words\n",
    "                    vocabulary = list(set(x_clean[idx1] + x_clean[idx2]))\n",
    "                    vector_sentence1 = [0]*len(vocabulary)\n",
    "                    vector_sentence2 = [0]*len(vocabulary)\n",
    "                    # count the word in each vocabulary\n",
    "                    for word in x_clean[idx1]:\n",
    "                        vector_sentence1[vocabulary.index(word)] += 1\n",
    "                    for word in x_clean[idx2]:\n",
    "                        vector_sentence2[vocabulary.index(word)] += 1\n",
    "                    #calculate similarity matrix using cosine similarity\n",
    "                    similarity_matrix[idx1][idx2] = 1 - cosine_distance(vector_sentence1, vector_sentence2)\n",
    "    else:\n",
    "        # Set the size of each word vector to be 100\n",
    "        w2v = Word2Vec(x_clean, vector_size=100, min_count=1)\n",
    "\n",
    "        # Get the embedding for each sentence by averaging the embeddings of the words in the sentence\n",
    "        sentence_embeddings = [[w2v.wv[word] for word in words] for words in x_clean]\n",
    "        sentence_embeddings = [np.mean(embedding, axis=0) for embedding in sentence_embeddings]\n",
    "\n",
    "        for i, row_embedding in enumerate(sentence_embeddings):\n",
    "            for j, column_embedding in enumerate(sentence_embeddings):\n",
    "                if np.isnan(row_embedding).any() or np.isnan(column_embedding).any():\n",
    "                    similarity_matrix[i][j] = 0\n",
    "                else:\n",
    "                    similarity_matrix[i][j] = 1 - cosine_distance(row_embedding, column_embedding)\n",
    "    # complete similarity matrix\n",
    "    similarity_matrix = similarity_matrix + similarity_matrix.T - np.diag(similarity_matrix.diagonal())\n",
    "    similarity_matrix = np.divide(similarity_matrix,np.sum(similarity_matrix,axis = 0),where=np.sum(similarity_matrix,axis = 0) != 0)\n",
    "    # iteratively update the textRank score\n",
    "    vector = np.array([1] * len(similarity_matrix))\n",
    "    previous_sum_vector = 0\n",
    "    for epoch in range(100):\n",
    "        vector = (1 - 0.85) + 0.85 * np.matmul(similarity_matrix, vector)\n",
    "        if abs(previous_sum_vector - sum(vector)) >= 1e-5:\n",
    "            previous_sum_vector = sum(vector)\n",
    "        else:\n",
    "            break\n",
    "    vector_sort = list(np.argsort(vector))\n",
    "    vector_sort.reverse()\n",
    "    # extract the top n textrank sentences\n",
    "    i = 0\n",
    "    top_sentences = {}\n",
    "    for i in range(number):\n",
    "        print (str(vector_sort[i]) + \" : \" + str(vector[vector_sort[i]]))\n",
    "        if noun_or_sentence == 0:\n",
    "            sentence = sentences[vector_sort[i]]\n",
    "        else:\n",
    "            sentence = noun_chunks_split[vector_sort[i]]\n",
    "        top_sentences[sentence] = vector[vector_sort[i]]\n",
    "        print(sentence)\n",
    "    return top_sentences"
   ]
  },
  {
   "cell_type": "markdown",
   "id": "quick-local",
   "metadata": {},
   "source": [
    "clean the sentences and extract noun chunks"
   ]
  },
  {
   "cell_type": "code",
   "execution_count": 3,
   "id": "introductory-exhibit",
   "metadata": {},
   "outputs": [
    {
     "name": "stderr",
     "output_type": "stream",
     "text": [
      "[nltk_data] Downloading package punkt to /Users/mac/nltk_data...\n",
      "[nltk_data]   Package punkt is already up-to-date!\n",
      "[nltk_data] Downloading package stopwords to /Users/mac/nltk_data...\n",
      "[nltk_data]   Package stopwords is already up-to-date!\n"
     ]
    }
   ],
   "source": [
    "# test a passage, clean the passage\n",
    "nlp = spacy.load('en_core_web_sm')\n",
    "text =\"Observed scaling relations in galaxies between baryons and dark matter global properties are key to shed light on the process of galaxy formation and on the nature of dark matter. Here, we study the scaling relation between the neutral hydrogen (HI) and dark matter mass in isolated rotationally-supported disk galaxies at low redshift. We first show that state-of-the-art galaxy formation simulations predict that the HI-to-dark halo mass ratio decreases with stellar mass for the most massive disk galaxies. We then infer dark matter halo masses from high-quality rotation curve data for isolated disk galaxies in the local Universe, and report on the actual universality of the HI-to-dark halo mass ratio for these observed galaxies. This scaling relation holds for disks spanning a range of 4 orders of magnitude in stellar mass and 3 orders of magnitude in surface brightness. Accounting for the diversity of rotation curve shapes in our observational fits decreases the scatter of the HI-to-dark halo mass ratio while keeping it constant. This finding extends the previously reported discrepancy for the stellar-to-halo mass relation of massive disk galaxies within galaxy formation simulations to the realm of neutral atomic gas. Our result reveals that isolated galaxies with regularly rotating extended HI disks are surprisingly self-similar up to high masses, which hints at mass-independent self-regulation mechanisms that have yet to be fully understood.\"\n",
    "nltk.download('punkt')\n",
    "nltk.download('stopwords')\n",
    "lemmatizer = WordNetLemmatizer()\n",
    "stop_words = set(stopwords.words('english'))\n",
    "sentences = nltk.sent_tokenize(text)\n",
    "x_clean = [re.sub(r'[^a-zA-Z0-9-\\s]', u'',sentence.replace('\\n', '').replace('-',' '), flags=re.UNICODE) for sentence in sentences]\n",
    "x_clean = [list(filter(lambda w: w not in stop_words and len(w)>2, map(lemmatizer.lemmatize, sentence.lower().split()))) for sentence in x_clean]\n",
    "# extract the noun chunks\n",
    "doc = nlp(text)\n",
    "noun_chunks_split = [chunk.text for chunk in doc.noun_chunks]"
   ]
  },
  {
   "cell_type": "markdown",
   "id": "entertaining-opinion",
   "metadata": {},
   "source": [
    "noun chunks similarity ranking using co-occurance matrix"
   ]
  },
  {
   "cell_type": "code",
   "execution_count": 4,
   "id": "entitled-logic",
   "metadata": {},
   "outputs": [
    {
     "name": "stdout",
     "output_type": "stream",
     "text": [
      "23 : 1.4021092890451134\n",
      "dark matter halo masses\n",
      "19 : 1.3208139883700234\n",
      "the HI-to-dark halo mass ratio\n",
      "43 : 1.3208139883700234\n",
      "the HI-to-dark halo mass ratio\n",
      "28 : 1.3208139883700234\n",
      "the HI-to-dark halo mass ratio\n",
      "25 : 1.304102326929677\n",
      "isolated disk galaxies\n",
      "14 : 1.2985871523037398\n",
      "dark matter mass\n",
      "21 : 1.2437635249712296\n",
      "the most massive disk galaxies\n",
      "48 : 1.2437635249712296\n",
      "massive disk galaxies\n",
      "1 : 1.1391368593863604\n",
      "galaxies\n",
      "55 : 1.1368473063201823\n",
      "high masses\n",
      "15 : 1.08123495043033\n",
      "isolated rotationally-supported disk galaxies\n",
      "29 : 1.048644747227133\n",
      "these observed galaxies\n",
      "53 : 1.0422127806183559\n",
      "isolated galaxies\n",
      "37 : 1.0\n",
      "magnitude\n",
      "51 : 1.0\n",
      "neutral atomic gas\n",
      "12 : 1.0\n",
      "the neutral hydrogen\n",
      "33 : 1.0\n",
      "4 orders\n",
      "34 : 1.0\n",
      "magnitude\n",
      "36 : 1.0\n",
      "3 orders\n",
      "0 : 0.9675349485284513\n",
      "Observed scaling relations\n",
      "7 : 0.9656717650439303\n",
      "galaxy formation\n",
      "11 : 0.9380818803990555\n",
      "the scaling relation\n",
      "30 : 0.9380818803990555\n",
      "This scaling relation\n",
      "35 : 0.9239248730366187\n",
      "stellar mass\n",
      "20 : 0.9239248730366187\n",
      "stellar mass\n",
      "49 : 0.8451087350412846\n",
      "galaxy formation simulations\n",
      "9 : 0.8401664304214619\n",
      "dark matter\n",
      "3 : 0.8401664304214619\n",
      "dark matter\n",
      "24 : 0.810991659632889\n",
      "high-quality rotation curve data\n",
      "31 : 0.7395546708174111\n",
      "disks\n"
     ]
    }
   ],
   "source": [
    "top_sentences = ranking(x_clean, noun_or_sentence = 1, number = 30, similarity_method = 0)"
   ]
  },
  {
   "cell_type": "markdown",
   "id": "stone-grove",
   "metadata": {},
   "source": [
    "noun chunks similarity ranking using word embedding similarity"
   ]
  },
  {
   "cell_type": "code",
   "execution_count": 5,
   "id": "affecting-europe",
   "metadata": {},
   "outputs": [
    {
     "name": "stdout",
     "output_type": "stream",
     "text": [
      "42 : 10459.01311373482\n",
      "the scatter\n",
      "24 : 3574.118291895084\n",
      "high-quality rotation curve data\n",
      "40 : 3284.1414626658334\n",
      "rotation curve shapes\n",
      "15 : 3087.8408540534215\n",
      "isolated rotationally-supported disk galaxies\n",
      "31 : 2874.8996401229197\n",
      "disks\n",
      "49 : 2506.3845655004106\n",
      "galaxy formation simulations\n",
      "54 : 2379.082466527472\n",
      "regularly rotating extended HI disks\n",
      "29 : 2277.3866503191457\n",
      "these observed galaxies\n",
      "48 : 2028.8996218860914\n",
      "massive disk galaxies\n",
      "21 : 2028.8996218860914\n",
      "the most massive disk galaxies\n",
      "55 : 2013.5238200551723\n",
      "high masses\n",
      "7 : 1957.0152209154837\n",
      "galaxy formation\n",
      "8 : 1873.0308153518727\n",
      "the nature\n",
      "51 : 1371.0511289210433\n",
      "neutral atomic gas\n",
      "20 : 1342.466402828283\n",
      "stellar mass\n",
      "35 : 1342.4664028282828\n",
      "stellar mass\n",
      "0 : 493.07162321111446\n",
      "Observed scaling relations\n",
      "25 : 392.60162028606555\n",
      "isolated disk galaxies\n",
      "37 : 381.91049721769724\n",
      "magnitude\n",
      "34 : 381.91049721769724\n",
      "magnitude\n",
      "5 : 278.5665286230951\n",
      "light\n",
      "39 : 74.09439557370426\n",
      "the diversity\n",
      "18 : 60.34346830567828\n",
      "the-art\n",
      "22 : 0.15000000000000002\n",
      "We\n",
      "10 : 0.15000000000000002\n",
      "we\n",
      "56 : 0.15000000000000002\n",
      "which\n",
      "13 : 0.15000000000000002\n",
      "HI\n",
      "58 : 0.15000000000000002\n",
      "that\n",
      "44 : 0.15000000000000002\n",
      "it\n",
      "17 : 0.15000000000000002\n",
      "We\n"
     ]
    },
    {
     "name": "stderr",
     "output_type": "stream",
     "text": [
      "/Users/mac/opt/anaconda2/envs/jupyterlab/lib/python3.9/site-packages/numpy/core/fromnumeric.py:3432: RuntimeWarning: Mean of empty slice.\n",
      "  return _methods._mean(a, axis=axis, dtype=dtype,\n",
      "/Users/mac/opt/anaconda2/envs/jupyterlab/lib/python3.9/site-packages/numpy/core/_methods.py:190: RuntimeWarning: invalid value encountered in double_scalars\n",
      "  ret = ret.dtype.type(ret / rcount)\n"
     ]
    }
   ],
   "source": [
    "ranking(x_clean, noun_or_sentence = 1, number = 30, similarity_method = 1)"
   ]
  },
  {
   "cell_type": "markdown",
   "id": "continued-junior",
   "metadata": {},
   "source": [
    "sentence ranking using co-occurance similarity matrix"
   ]
  },
  {
   "cell_type": "code",
   "execution_count": 6,
   "id": "supported-revision",
   "metadata": {},
   "outputs": [
    {
     "name": "stdout",
     "output_type": "stream",
     "text": [
      "2 : 1.327454290436561\n",
      "We first show that state-of-the-art galaxy formation simulations predict that the HI-to-dark halo mass ratio decreases with stellar mass for the most massive disk galaxies.\n",
      "3 : 1.319636058124042\n",
      "We then infer dark matter halo masses from high-quality rotation curve data for isolated disk galaxies in the local Universe, and report on the actual universality of the HI-to-dark halo mass ratio for these observed galaxies.\n",
      "1 : 1.1370994929413936\n",
      "Here, we study the scaling relation between the neutral hydrogen (HI) and dark matter mass in isolated rotationally-supported disk galaxies at low redshift.\n",
      "6 : 1.0890211350683119\n",
      "This finding extends the previously reported discrepancy for the stellar-to-halo mass relation of massive disk galaxies within galaxy formation simulations to the realm of neutral atomic gas.\n",
      "0 : 0.9364789389550399\n",
      "Observed scaling relations in galaxies between baryons and dark matter global properties are key to shed light on the process of galaxy formation and on the nature of dark matter.\n"
     ]
    }
   ],
   "source": [
    "ranking(x_clean, noun_or_sentence = 0, number = 5, similarity_method = 0)"
   ]
  },
  {
   "cell_type": "markdown",
   "id": "adapted-logan",
   "metadata": {},
   "source": [
    "sentence ranking using word2vec similarity matrix"
   ]
  },
  {
   "cell_type": "code",
   "execution_count": 7,
   "id": "diverse-glucose",
   "metadata": {},
   "outputs": [
    {
     "name": "stdout",
     "output_type": "stream",
     "text": [
      "3 : 1.2363638153252827\n",
      "We then infer dark matter halo masses from high-quality rotation curve data for isolated disk galaxies in the local Universe, and report on the actual universality of the HI-to-dark halo mass ratio for these observed galaxies.\n",
      "2 : 1.1379744915731522\n",
      "We first show that state-of-the-art galaxy formation simulations predict that the HI-to-dark halo mass ratio decreases with stellar mass for the most massive disk galaxies.\n",
      "6 : 1.0504689067331228\n",
      "This finding extends the previously reported discrepancy for the stellar-to-halo mass relation of massive disk galaxies within galaxy formation simulations to the realm of neutral atomic gas.\n",
      "0 : 1.0348830550365087\n",
      "Observed scaling relations in galaxies between baryons and dark matter global properties are key to shed light on the process of galaxy formation and on the nature of dark matter.\n",
      "1 : 1.0135659525968403\n",
      "Here, we study the scaling relation between the neutral hydrogen (HI) and dark matter mass in isolated rotationally-supported disk galaxies at low redshift.\n"
     ]
    }
   ],
   "source": [
    "ranking(x_clean, noun_or_sentence = 0, number = 5, similarity_method = 1)"
   ]
  },
  {
   "cell_type": "code",
   "execution_count": null,
   "id": "downtown-handy",
   "metadata": {},
   "outputs": [],
   "source": []
  }
 ],
 "metadata": {
  "kernelspec": {
   "display_name": "Python 3",
   "language": "python",
   "name": "python3"
  },
  "language_info": {
   "codemirror_mode": {
    "name": "ipython",
    "version": 3
   },
   "file_extension": ".py",
   "mimetype": "text/x-python",
   "name": "python",
   "nbconvert_exporter": "python",
   "pygments_lexer": "ipython3",
   "version": "3.9.1"
  }
 },
 "nbformat": 4,
 "nbformat_minor": 5
}
