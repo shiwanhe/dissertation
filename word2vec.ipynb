{
  "nbformat": 4,
  "nbformat_minor": 0,
  "metadata": {
    "colab": {
      "provenance": []
    },
    "kernelspec": {
      "name": "python3",
      "display_name": "Python 3"
    },
    "language_info": {
      "name": "python"
    }
  },
  "cells": [
    {
      "cell_type": "markdown",
      "source": [
        "# Word2vec implementation"
      ],
      "metadata": {
        "id": "fGRnjqz0Onil"
      }
    },
    {
      "cell_type": "markdown",
      "source": [
        "read Data.xlsx and extract abstract belonging to medical category to train word embedding and clean the training dataset."
      ],
      "metadata": {
        "id": "Ic8GEMZO4Fo-"
      }
    },
    {
      "cell_type": "code",
      "source": [
        "import numpy as np\n",
        "import pandas as pd\n",
        "import re\n",
        "import nltk\n",
        "from nltk.corpus import stopwords\n",
        "from nltk.stem.wordnet import WordNetLemmatizer\n",
        "from sklearn.preprocessing import LabelEncoder\n",
        "from nltk.stem import WordNetLemmatizer\n",
        "df = pd.read_excel('Data.xlsx')\n",
        "Medical = df[df['Domain'] == 'Medical ']\n",
        "Medical_subset = Medical.head(7000)\n",
        "x_Medical = Medical_subset['Abstract'].tolist()\n",
        "# clean the abstract reading from train.txt\n",
        "nltk.download('stopwords')\n",
        "nltk.download('omw-1.4')\n",
        "nltk.download('wordnet')\n",
        "lemmatizer = WordNetLemmatizer()\n",
        "stop_words = set(stopwords.words('english'))\n",
        "x_clean = [re.sub(r'[^a-zA-Z-\\s]', u'',sentence.replace('\\n', ''), flags=re.UNICODE) for sentence in x_Medical]\n",
        "a = [list(filter(lambda w: w not in stop_words and len(w)>2, map(lemmatizer.lemmatize, sentence.lower().split()))) for sentence in x_clean]"
      ],
      "metadata": {
        "colab": {
          "base_uri": "https://localhost:8080/"
        },
        "id": "Q1vGKerlYeOv",
        "outputId": "19ceb081-4c22-4d70-f73d-741eb92aed35"
      },
      "execution_count": null,
      "outputs": [
        {
          "output_type": "stream",
          "name": "stderr",
          "text": [
            "[nltk_data] Downloading package stopwords to /root/nltk_data...\n",
            "[nltk_data]   Package stopwords is already up-to-date!\n",
            "[nltk_data] Downloading package omw-1.4 to /root/nltk_data...\n",
            "[nltk_data]   Package omw-1.4 is already up-to-date!\n",
            "[nltk_data] Downloading package wordnet to /root/nltk_data...\n",
            "[nltk_data]   Package wordnet is already up-to-date!\n"
          ]
        }
      ]
    },
    {
      "cell_type": "markdown",
      "source": [
        "remove tokens with less than 5 occurrences"
      ],
      "metadata": {
        "id": "BdWePAp04Zxp"
      }
    },
    {
      "cell_type": "code",
      "source": [
        "# calculate the numbers of tokens in vocabularies and selects the ones that occurred more than 5 times\n",
        "import collections\n",
        "token_counter = collections.Counter([token for sentence in a for token in sentence])\n",
        "token_counter = dict(filter(lambda token: token[1] >= 5, token_counter.items()))\n",
        "print(len(token_counter))"
      ],
      "metadata": {
        "colab": {
          "base_uri": "https://localhost:8080/"
        },
        "id": "2g_Oz2XPfEj4",
        "outputId": "c18183ae-0528-4914-db89-08748cf9ccaa"
      },
      "execution_count": null,
      "outputs": [
        {
          "output_type": "stream",
          "name": "stdout",
          "text": [
            "14435\n"
          ]
        }
      ]
    },
    {
      "cell_type": "code",
      "source": [
        "# encode each token with its index\n",
        "token_array = [token for token, _ in token_counter.items()]\n",
        "t_to_i = {token: index for index, token in enumerate(token_array)}\n",
        "data = [[t_to_i[token] for token in sentence if token in t_to_i]\n",
        "           for sentence in a]\n",
        "# calculate total number of tokens\n",
        "tokens_num = sum([len(sentence) for sentence in data])\n",
        "print(\"tokens before subsampling \", tokens_num)"
      ],
      "metadata": {
        "colab": {
          "base_uri": "https://localhost:8080/"
        },
        "id": "p2oJw1pHf3gE",
        "outputId": "3e50e11e-c1de-4709-b3b1-6c57cad5357c"
      },
      "execution_count": null,
      "outputs": [
        {
          "output_type": "stream",
          "name": "stdout",
          "text": [
            "tokens before subsampling  917944\n"
          ]
        }
      ]
    },
    {
      "cell_type": "markdown",
      "source": [
        "Some high-frequency words usually appear in text data, such as \"the\" \"a\" and \"in\" in English. Typically, in a background window, a word (such as \"cell\") and a lower-frequency word, such as “thrombocytopenia”, is more beneficial to embedding the training word model than a higher-frequent word (Such as \"the\").Therefore, a training word can be sampled secondly when embedded in a model. Specifically, the data is concentrated in each indexed word $w_{i}$\n",
        "There will be a certain probability that will be discarded.\n",
        "$P\\left(w_{i}\\right)=\\max \\left(1-\\sqrt{\\frac{t}{f\\left(w_{i}\\right)}}, 0\\right)$\n",
        "f($w_{i}$)is the proportion between Data concentration word $w_{i}$ and the constant t.\n",
        "t is a superparameter (set to $10^{−4}$in the experiment)\n",
        "See only if $f (w_{i}) > t$, we can throw out the word w, and the higher the frequency of the word, the more likely it is to be discarded.\n",
        "\n",
        "\n",
        "\n",
        "\n"
      ],
      "metadata": {
        "id": "R-26RwB-lqa8"
      }
    },
    {
      "cell_type": "code",
      "source": [
        "import math\n",
        "import random\n",
        "dataset_subsample = []\n",
        "for sentence in data:\n",
        "  dataset = []\n",
        "  for token in sentence:\n",
        "    if 1 - math.sqrt(1e-4 / token_counter[token_array[token]] * tokens_num) < random.uniform(0, 1):\n",
        "      dataset.append(token)\n",
        "  dataset_subsample.append(dataset)\n",
        "print(\"tokens after subsampling \",sum([len(sentence) for sentence in dataset_subsample]))"
      ],
      "metadata": {
        "colab": {
          "base_uri": "https://localhost:8080/"
        },
        "id": "HRIA_hmBtNtu",
        "outputId": "92483e52-65e2-4bdf-c6b8-0897034c6b7d"
      },
      "execution_count": null,
      "outputs": [
        {
          "output_type": "stream",
          "name": "stdout",
          "text": [
            "tokens after subsampling  525554\n"
          ]
        }
      ]
    },
    {
      "cell_type": "markdown",
      "source": [
        "After sampling, there is a decrease in the frequency of words with more occurance, the number of words with less occurance remains unchanged."
      ],
      "metadata": {
        "id": "L50vOdhStYmD"
      }
    },
    {
      "cell_type": "code",
      "source": [
        "def compare(t):\n",
        "  sum_before = 0\n",
        "  for string in data:\n",
        "    sum_before += string.count(t_to_i[t])\n",
        "  sum_after = 0\n",
        "  for string in dataset_subsample:\n",
        "    sum_after += string.count(t_to_i[t])\n",
        "  print('%s: before=%d, after=%d' % (t, sum_before, sum_after))\n",
        "compare('cell')\n",
        "compare('thrombocytopenia')"
      ],
      "metadata": {
        "colab": {
          "base_uri": "https://localhost:8080/"
        },
        "id": "U6bavcvfwkNN",
        "outputId": "7b147e24-f362-4435-87a7-ee8880d2b346"
      },
      "execution_count": null,
      "outputs": [
        {
          "output_type": "stream",
          "name": "stdout",
          "text": [
            "cell: before=3147, after=551\n",
            "thrombocytopenia: before=23, after=23\n"
          ]
        }
      ]
    },
    {
      "cell_type": "markdown",
      "source": [
        "To increase the training accuracy and efficiency, a window size is set to limit the distance from the central word to the context words. The central word is the word to be predicted. Context words are closer to central words, so there are semantic similarities between them. We randomly sample an integer between 1 and the set maximum context window size as context window size. Context words that exceed the window size will be discarded.\n"
      ],
      "metadata": {
        "id": "82V-G24hwpZr"
      }
    },
    {
      "cell_type": "code",
      "source": [
        "def get_centers_and_contexts(dataset, max_window_size):\n",
        "  centers = []\n",
        "  contexts = []\n",
        "  for sentence in dataset:\n",
        "    if len(sentence) < 2:\n",
        "      continue\n",
        "    for i in range(len(sentence)):\n",
        "      window_size = random.randint(1, max_window_size)\n",
        "      centers.append(sentence[i])\n",
        "      contexts.append(sentence[max(0, i-window_size):i]+sentence[i+1:min(i+window_size+1, len(sentence))])\n",
        "  return centers, contexts"
      ],
      "metadata": {
        "id": "sAD--SJo2pTc"
      },
      "execution_count": null,
      "outputs": []
    },
    {
      "cell_type": "code",
      "source": [
        "#centers, contexts = get_centers_and_contexts(dataset_subsample, 5)"
      ],
      "metadata": {
        "id": "IPDMj7EawD6E"
      },
      "execution_count": null,
      "outputs": []
    },
    {
      "cell_type": "markdown",
      "source": [
        "For each pair of center words and context words, we employ negative sampling to randomly select K negative samples. The sampling probability P(w) for noise words is set to the 0.75 power of the frequency of word w. This setting implies that higher frequent words are more likely to be selected during sampling, but their selection probabilities do not grow linearly with their frequencies; instead, they increase with a power of 0.75. This specific setting aims to balance the sampling probabilities between high-frequency and low-frequency words, ensuring a reasonable sampling of noise words in the negative sampling process."
      ],
      "metadata": {
        "id": "0o3bXEY_63qB"
      }
    },
    {
      "cell_type": "code",
      "source": [
        "def get_negatives(contexts, weight, K):\n",
        "    negatives_array = []\n",
        "    neg_samples = []\n",
        "    i = 0\n",
        "    for context in contexts:\n",
        "        negatives = []\n",
        "        while len(negatives) < len(context) * K:\n",
        "            if i == len(neg_samples):\n",
        "                # According to the weight of each word (sampling_weights), the index of k words is randomly generated as a noise word.\n",
        "                # For efficient calculation, k can be set slightly larger\n",
        "                neg_samples = random.choices(list(range(len(weight))), weight, k=int(1e5))\n",
        "                i = 0\n",
        "            # Noise words cannot be background words\n",
        "            if neg_samples[i] not in set(context):\n",
        "                negatives.append(neg_samples[i])\n",
        "            i = i + 1\n",
        "        negatives_array.append(negatives)\n",
        "    return negatives_array\n",
        "\n",
        "weight = [token_counter[w]**0.75 for w in token_array]\n",
        "#negatives_array = get_negatives(contexts, weight, 5)\n"
      ],
      "metadata": {
        "id": "1DXSnNOGwZ_k"
      },
      "execution_count": null,
      "outputs": []
    },
    {
      "cell_type": "code",
      "source": [
        "import torch\n",
        "from torch import nn\n",
        "import torch.utils.data as Data\n",
        "class Dataset(torch.utils.data.Dataset):\n",
        "    def __init__(self, centers, backgrounds, negative_samples):\n",
        "        self.centers = centers\n",
        "        self.backgrounds = backgrounds\n",
        "        self.negatives = negative_samples\n",
        "\n",
        "    def __getitem__(self, index):\n",
        "        return (self.centers[index], self.backgrounds[index], self.negatives[index])\n",
        "\n",
        "    def __len__(self):\n",
        "        return len(self.backgrounds)\n",
        "def batches(data):\n",
        "    max_len = max(len(context) + len(negative) for _, context, negative in data)\n",
        "    centers, contexts_negatives, context_negative_masks, context_masks = [], [], [], []\n",
        "    for center, context, negative in data:\n",
        "        length = len(context) + len(negative)\n",
        "        centers += [center]\n",
        "        contexts_negatives += [context + negative + [0] * (max_len - length)]\n",
        "        context_negative_masks += [[1] * length + [0] * (max_len - length)]\n",
        "        context_masks += [[1] * len(context) + [0] * (max_len - len(context))]\n",
        "    return (torch.tensor(centers).view(-1, 1), torch.tensor(contexts_negatives),\n",
        "            torch.tensor(context_negative_masks), torch.tensor(context_masks))\n",
        "\n",
        "'''dataset = Data.DataLoader(Dataset(centers, contexts, negatives_array), 512, shuffle=True,\n",
        "                            collate_fn=batches,\n",
        "                            num_workers=4)\n",
        "for batch in dataset:\n",
        "    for n, data in zip(['centers', 'contexts_negatives', 'context_negative_masks',\n",
        "                           'context_masks'], batch):\n",
        "        print(n, 'of shape:', data.shape)\n",
        "    break\n",
        "'''"
      ],
      "metadata": {
        "colab": {
          "base_uri": "https://localhost:8080/",
          "height": 89
        },
        "id": "rpSG3cDhVvy6",
        "outputId": "6d891e60-c216-4c7d-b082-9e3993f256d8"
      },
      "execution_count": null,
      "outputs": [
        {
          "output_type": "execute_result",
          "data": {
            "text/plain": [
              "\"dataset = Data.DataLoader(Dataset(centers, contexts, negatives_array), 512, shuffle=True,\\n                            collate_fn=batches,\\n                            num_workers=4)\\nfor batch in dataset:\\n    for n, data in zip(['centers', 'contexts_negatives', 'context_negative_masks',\\n                           'context_masks'], batch):\\n        print(n, 'of shape:', data.shape)\\n    break\\n\""
            ],
            "application/vnd.google.colaboratory.intrinsic+json": {
              "type": "string"
            }
          },
          "metadata": {},
          "execution_count": 10
        }
      ]
    },
    {
      "cell_type": "markdown",
      "source": [
        "\n",
        "When the mask is 1, the predicted value and label of the corresponding position will participate in the calculation of the loss function; when the mask is 0, the predicted value and label of the corresponding position will not participate in the calculation of the loss function."
      ],
      "metadata": {
        "id": "LgrvF8e54pYb"
      }
    },
    {
      "cell_type": "code",
      "source": [
        "class SigmoidLoss(nn.Module):\n",
        "    def __init__(self): # none mean sum\n",
        "        super(SigmoidLoss, self).__init__()\n",
        "    def forward(self, inputs, targets, mask=None):\n",
        "        return nn.functional.binary_cross_entropy_with_logits(inputs.float(), targets.float(), reduction=\"none\", weight=mask.float()).mean(dim=1)\n",
        "\n",
        "sigmoid_loss = SigmoidLoss()\n"
      ],
      "metadata": {
        "id": "AXdH3Orazrwk"
      },
      "execution_count": null,
      "outputs": []
    },
    {
      "cell_type": "markdown",
      "source": [
        "The  𝑠𝑘𝑖𝑝_𝑔𝑟𝑎𝑚  model's input for the forward computation consists of the connected context and negative samples (contexts_and_negatives) and the central word index (center). The contexts_and_negatives variable has the shape of (batch size, max_len) and the center variable has the shape of (batch size, 1). These two variables undergo a word embedding layer conversion from word indices to word vectors before being multiplied by mini-batches to produce an output with the shape of (batch size, 1, max_len). Each component of the output is the inner product of the context word vector or negative samples vector and the center word vector."
      ],
      "metadata": {
        "id": "WoSG7gZ35h-s"
      }
    },
    {
      "cell_type": "code",
      "source": [
        "def skip_gram(center, contexts_and_negatives, embed_i, embed_j):\n",
        "    return torch.bmm(embed_i(center), embed_j(contexts_and_negatives).permute(0, 2, 1))"
      ],
      "metadata": {
        "id": "lj_g-nhN4Y-r"
      },
      "execution_count": null,
      "outputs": []
    },
    {
      "cell_type": "markdown",
      "source": [
        "train the word embedding, training steps will be faster if GPU is used"
      ],
      "metadata": {
        "id": "vabHehEe91MV"
      }
    },
    {
      "cell_type": "code",
      "source": [
        "import time\n",
        "def train(lr, epochs, dimension, window_size, negatives_num):\n",
        "    centers, contexts = get_centers_and_contexts(dataset_subsample, window_size)\n",
        "    negatives_array = get_negatives(contexts, weight, negatives_num)\n",
        "    dataset = Data.DataLoader(Dataset(centers, contexts, negatives_array), 512, shuffle=True,\n",
        "                            collate_fn=batches,\n",
        "                            num_workers=4)\n",
        "    for batch in dataset:\n",
        "        for n, data in zip(['centers', 'contexts_negatives', 'context_negative_masks',\n",
        "                              'context_masks'], batch):\n",
        "            print(n, 'of shape:', data.shape)\n",
        "        break\n",
        "    embedding = nn.Sequential(\n",
        "        nn.Embedding(num_embeddings=len(token_array), embedding_dim=dimension),\n",
        "        nn.Embedding(num_embeddings=len(token_array), embedding_dim=dimension)\n",
        "    )\n",
        "    device = torch.device('cuda' if torch.cuda.is_available() else 'cpu')\n",
        "    embedding = embedding.to(device)\n",
        "    optimizer = torch.optim.Adam(embedding.parameters(), lr=lr)\n",
        "    loss_array = []\n",
        "    for epoch in range(epochs):\n",
        "        start = time.time()\n",
        "        loss_sum = 0.0\n",
        "        num = 0\n",
        "        for batch in dataset:\n",
        "            center, context_negative, context_negative_masks, context_masks = [d.to(device) for d in batch]\n",
        "\n",
        "            pred = skip_gram(center, context_negative, embedding[0], embedding[1])\n",
        "            l = sigmoid_loss(pred.view(context_masks.shape), context_masks, context_negative_masks)\n",
        "            # Use the mask variable mask to avoid the impact of padding on the loss function calculation\n",
        "            loss = (l * context_negative_masks.shape[1] / context_negative_masks.float().sum(dim=1)).mean() # average loss of each batch\n",
        "            optimizer.zero_grad()\n",
        "            loss.backward()\n",
        "            optimizer.step()\n",
        "            loss_sum += loss.cpu().item()\n",
        "            num += 1\n",
        "        print('epoch %d, loss %.2f, time %.2fs'\n",
        "              % (epoch + 1, loss_sum / num, time.time() - start))\n",
        "        loss_array.append(loss)\n",
        "    return embedding, loss_array\n"
      ],
      "metadata": {
        "id": "zyycYPtZ3pm0"
      },
      "execution_count": null,
      "outputs": []
    },
    {
      "cell_type": "markdown",
      "source": [
        "set the learning rate to 0.01, epochs to 10, embedding dimension to 100, context window size to 5, negative sample numbers to 5"
      ],
      "metadata": {
        "id": "oRNn211_Kwwf"
      }
    },
    {
      "cell_type": "code",
      "source": [
        "embedding, loss_array1 = train(0.01, 10, 100, 5, 5)"
      ],
      "metadata": {
        "colab": {
          "base_uri": "https://localhost:8080/"
        },
        "id": "i0R15jC-8Fva",
        "outputId": "43e51996-6068-4495-f84d-9be4ae4f2cab"
      },
      "execution_count": null,
      "outputs": [
        {
          "output_type": "stream",
          "name": "stderr",
          "text": [
            "/usr/local/lib/python3.10/dist-packages/torch/utils/data/dataloader.py:560: UserWarning: This DataLoader will create 4 worker processes in total. Our suggested max number of worker in current system is 2, which is smaller than what this DataLoader is going to create. Please be aware that excessive worker creation might get DataLoader running slow or even freeze, lower the worker number to avoid potential slowness/freeze if necessary.\n",
            "  warnings.warn(_create_warning_msg(\n"
          ]
        },
        {
          "output_type": "stream",
          "name": "stdout",
          "text": [
            "centers of shape: torch.Size([512, 1])\n",
            "contexts_negatives of shape: torch.Size([512, 60])\n",
            "context_negative_masks of shape: torch.Size([512, 60])\n",
            "context_masks of shape: torch.Size([512, 60])\n",
            "epoch 1, loss 1.78, time 73.94s\n",
            "epoch 2, loss 0.53, time 72.73s\n",
            "epoch 3, loss 0.41, time 61.10s\n",
            "epoch 4, loss 0.37, time 65.51s\n",
            "epoch 5, loss 0.35, time 78.47s\n",
            "epoch 6, loss 0.34, time 76.10s\n",
            "epoch 7, loss 0.33, time 75.54s\n",
            "epoch 8, loss 0.32, time 67.55s\n",
            "epoch 9, loss 0.32, time 60.48s\n",
            "epoch 10, loss 0.31, time 62.08s\n"
          ]
        }
      ]
    },
    {
      "cell_type": "markdown",
      "source": [
        "find the similar words using cosine similarity"
      ],
      "metadata": {
        "id": "MIeeNNCtHXV5"
      }
    },
    {
      "cell_type": "code",
      "source": [
        "def get_similar_tokens(token, n, embedding):\n",
        "    weight = embedding.weight.data\n",
        "    #x = weight[t_to_i[token]]\n",
        "    #extract the top k tokens with the most similarity\n",
        "    cos_similarity = torch.matmul(weight, weight[t_to_i[token]]) / (torch.sum(weight * weight, dim=1) * torch.sum(weight[t_to_i[token]] * weight[t_to_i[token]]) + 1e-9).sqrt()\n",
        "    _, top_k_token = torch.topk(cos_similarity, k=n+1)\n",
        "    #topk = top_k_token.cpu().numpy()\n",
        "    for i in top_k_token[1:]:  # delete the input word\n",
        "        print('cosine similarity=%.3f: %s' % (cos_similarity[i], (token_array[i])))\n",
        "\n",
        "get_similar_tokens('protein', 5, embedding[0])"
      ],
      "metadata": {
        "colab": {
          "base_uri": "https://localhost:8080/"
        },
        "id": "FPfP0gDf-BAQ",
        "outputId": "56d98bbe-d43a-4247-ff32-9aab863e6f5f"
      },
      "execution_count": null,
      "outputs": [
        {
          "output_type": "stream",
          "name": "stdout",
          "text": [
            "cosine similarity=0.594: transcription\n",
            "cosine similarity=0.552: intracellular\n",
            "cosine similarity=0.544: expression\n",
            "cosine similarity=0.526: ap-\n",
            "cosine similarity=0.525: synthase\n"
          ]
        }
      ]
    },
    {
      "cell_type": "code",
      "source": [
        "get_similar_tokens('injury', 5, embedding[0])"
      ],
      "metadata": {
        "id": "AnSaF7t9Armo",
        "colab": {
          "base_uri": "https://localhost:8080/"
        },
        "outputId": "ef900dec-a140-4714-95bd-b1794a412799"
      },
      "execution_count": null,
      "outputs": [
        {
          "output_type": "stream",
          "name": "stdout",
          "text": [
            "cosine similarity=0.731: sport\n",
            "cosine similarity=0.659: sprain\n",
            "cosine similarity=0.627: athlete\n",
            "cosine similarity=0.580: hnis\n",
            "cosine similarity=0.573: competition\n"
          ]
        }
      ]
    },
    {
      "cell_type": "code",
      "source": [
        "get_similar_tokens('depression', 5, embedding[0])"
      ],
      "metadata": {
        "colab": {
          "base_uri": "https://localhost:8080/"
        },
        "id": "7W176pWGpMDN",
        "outputId": "5075dc01-d472-4467-c98a-15f326b27ca3"
      },
      "execution_count": null,
      "outputs": [
        {
          "output_type": "stream",
          "name": "stdout",
          "text": [
            "cosine similarity=0.636: depressive\n",
            "cosine similarity=0.586: anxiety\n",
            "cosine similarity=0.540: psychiatric\n",
            "cosine similarity=0.531: self-esteem\n",
            "cosine similarity=0.527: membership\n"
          ]
        }
      ]
    },
    {
      "cell_type": "code",
      "source": [
        "get_similar_tokens('nerve', 5, embedding[0])"
      ],
      "metadata": {
        "colab": {
          "base_uri": "https://localhost:8080/"
        },
        "id": "2NTPcQplpuLU",
        "outputId": "dc8245c8-41a7-4531-f484-a6d99d06cab5"
      },
      "execution_count": null,
      "outputs": [
        {
          "output_type": "stream",
          "name": "stdout",
          "text": [
            "cosine similarity=0.491: stimulation\n",
            "cosine similarity=0.480: spinal\n",
            "cosine similarity=0.477: ipsilateral\n",
            "cosine similarity=0.474: bglum\n",
            "cosine similarity=0.464: parieto-occipital\n"
          ]
        }
      ]
    },
    {
      "cell_type": "code",
      "source": [
        "get_similar_tokens('weight', 5, embedding[0])"
      ],
      "metadata": {
        "colab": {
          "base_uri": "https://localhost:8080/"
        },
        "id": "WskOl_NDqETl",
        "outputId": "3a296706-1e4e-4320-a157-3a4809d8e68e"
      },
      "execution_count": null,
      "outputs": [
        {
          "output_type": "stream",
          "name": "stdout",
          "text": [
            "cosine similarity=0.503: loss\n",
            "cosine similarity=0.477: bmi\n",
            "cosine similarity=0.461: body\n",
            "cosine similarity=0.460: normoglycemic\n",
            "cosine similarity=0.459: waist\n"
          ]
        }
      ]
    },
    {
      "cell_type": "code",
      "source": [
        "get_similar_tokens('cancer', 5, embedding[0])"
      ],
      "metadata": {
        "colab": {
          "base_uri": "https://localhost:8080/"
        },
        "id": "IHA7jPuiqJz-",
        "outputId": "9573af84-716f-4224-f940-23678a1d4ce1"
      },
      "execution_count": null,
      "outputs": [
        {
          "output_type": "stream",
          "name": "stdout",
          "text": [
            "cosine similarity=0.713: breast\n",
            "cosine similarity=0.502: radiotherapy\n",
            "cosine similarity=0.487: squamous\n",
            "cosine similarity=0.478: prostate\n",
            "cosine similarity=0.477: non-inflammatory\n"
          ]
        }
      ]
    },
    {
      "cell_type": "code",
      "source": [
        "get_similar_tokens('headache', 5, embedding[0])"
      ],
      "metadata": {
        "colab": {
          "base_uri": "https://localhost:8080/"
        },
        "id": "eZuySJL1qeI1",
        "outputId": "a7a042ba-a7e8-4c24-9f86-346de7ed1fc1"
      },
      "execution_count": null,
      "outputs": [
        {
          "output_type": "stream",
          "name": "stdout",
          "text": [
            "cosine similarity=0.607: vertigo\n",
            "cosine similarity=0.591: migraine\n",
            "cosine similarity=0.554: epilepsy\n",
            "cosine similarity=0.498: tth\n",
            "cosine similarity=0.493: attack\n"
          ]
        }
      ]
    },
    {
      "cell_type": "code",
      "source": [
        "get_similar_tokens('diabetes', 5, embedding[0])"
      ],
      "metadata": {
        "colab": {
          "base_uri": "https://localhost:8080/"
        },
        "id": "ZvbZEG-DrPDX",
        "outputId": "45a7f1d3-e9d1-4874-c7fb-a11a7d092898"
      },
      "execution_count": null,
      "outputs": [
        {
          "output_type": "stream",
          "name": "stdout",
          "text": [
            "cosine similarity=0.601: mellitus\n",
            "cosine similarity=0.573: hypertension\n",
            "cosine similarity=0.506: cardiovascular\n",
            "cosine similarity=0.479: lipoprotein\n",
            "cosine similarity=0.478: diabetic\n"
          ]
        }
      ]
    },
    {
      "cell_type": "code",
      "source": [
        "get_similar_tokens('brain', 5, embedding[0])"
      ],
      "metadata": {
        "colab": {
          "base_uri": "https://localhost:8080/"
        },
        "id": "9Ciooc1Yrl-I",
        "outputId": "d0826832-0a17-47ba-e2da-6fce9f2f9638"
      },
      "execution_count": null,
      "outputs": [
        {
          "output_type": "stream",
          "name": "stdout",
          "text": [
            "cosine similarity=0.584: neuron\n",
            "cosine similarity=0.564: pathology\n",
            "cosine similarity=0.543: cerebral\n",
            "cosine similarity=0.534: synaptic\n",
            "cosine similarity=0.531: nucleus\n"
          ]
        }
      ]
    },
    {
      "cell_type": "code",
      "source": [
        "get_similar_tokens('heart', 5, embedding[0])"
      ],
      "metadata": {
        "colab": {
          "base_uri": "https://localhost:8080/"
        },
        "id": "qryKvdv3rvGM",
        "outputId": "bac13af3-fc05-4857-af4e-daa392725e43"
      },
      "execution_count": null,
      "outputs": [
        {
          "output_type": "stream",
          "name": "stdout",
          "text": [
            "cosine similarity=0.519: valvular\n",
            "cosine similarity=0.512: cardiac\n",
            "cosine similarity=0.510: fibrillation\n",
            "cosine similarity=0.508: arrhythmia\n",
            "cosine similarity=0.498: ecg\n"
          ]
        }
      ]
    },
    {
      "cell_type": "code",
      "source": [
        "get_similar_tokens('autism', 5, embedding[0])"
      ],
      "metadata": {
        "colab": {
          "base_uri": "https://localhost:8080/"
        },
        "id": "v57PHJv6r1II",
        "outputId": "30ae68d0-b1d0-4f2c-ee6a-78458068020a"
      },
      "execution_count": null,
      "outputs": [
        {
          "output_type": "stream",
          "name": "stdout",
          "text": [
            "cosine similarity=0.553: asd\n",
            "cosine similarity=0.523: developmental\n",
            "cosine similarity=0.515: social\n",
            "cosine similarity=0.512: dsed\n",
            "cosine similarity=0.494: irritability\n"
          ]
        }
      ]
    }
  ]
}